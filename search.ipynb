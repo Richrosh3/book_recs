{
 "cells": [
  {
   "cell_type": "markdown",
   "metadata": {
    "colab_type": "text",
    "id": "view-in-github"
   },
   "source": [
    "<a href=\"https://colab.research.google.com/github/Richrosh3/book_recs/blob/main/search.ipynb\" target=\"_parent\"><img src=\"https://colab.research.google.com/assets/colab-badge.svg\" alt=\"Open In Colab\"/></a>"
   ]
  },
  {
   "cell_type": "code",
   "execution_count": 4,
   "metadata": {
    "id": "FKzu_XLDpC3g"
   },
   "outputs": [
    {
     "name": "stdout",
     "output_type": "stream",
     "text": [
      "  226659 book_database/series.json/series.json\n"
     ]
    }
   ],
   "source": [
    "!wc -l book_database/series.json/series.json"
   ]
  },
  {
   "cell_type": "code",
   "execution_count": 8,
   "metadata": {},
   "outputs": [],
   "source": [
    "import json\n",
    "\n",
    "series = []\n",
    "with open('book_database/series.json/series.json', 'r') as file:\n",
    "    for line in file:\n",
    "        series.append(json.loads(line))"
   ]
  },
  {
   "cell_type": "code",
   "execution_count": 9,
   "metadata": {},
   "outputs": [
    {
     "name": "stdout",
     "output_type": "stream",
     "text": [
      "{'id': '40323', 'title': 'Dragonriders of Pern', 'description': 'Also known as:\\n    * Drakenrijders van Pern\\n    * Cavaleiros de Pern\\n    * Zmajevi jahači Perna\\n    * Drakeni z Pernu\\n    \\n    This series is for the original Pern Trilogy. Note that both in publication and chronological order the first two books of the <a href=\"http://www.goodreads.com/series/43987-pern-harper-hall\">Harper Hall Trilogy</a> come before The White Dragon.\\n    \\n    For the full series see:\\n    <a href=\"http://www.goodreads.com/series/50060-pern-published-order\">Pern (Publication Order)</a>\\n    <a href=\"http://www.goodreads.com/series/49339-pern-chronological-order\">Pern (Chronological Order)</a>\\n    \\n    Also consider that reader Trike says \"Dragonflight by Anne McCaffrey is a standalone. (It\\'s actually a fix-up novel comprised of her two Pern novellas with additional material added.) The sequels were added later. Numbers 2 and 3, Dragonquest and The White Dragon were written later. A decade later in the case of the latter. The White Dragon can be read as a standalone. (But it\\'s better as the third in the series.)\"', 'note': None, 'series_works_count': '4', 'primary_work_count': '3', 'numbered': 'true', 'works': [{'title': 'Dragonflight (Dragonriders of Pern, #1)', 'work_id': '2467422', 'edition_id': '61975', 'user_position': '1', 'books_count': '117'}, {'title': 'Dragonquest (Pern, #2)', 'work_id': '2000164', 'edition_id': '127584', 'user_position': '2', 'books_count': '82'}, {'title': 'The White Dragon (Pern, #3)', 'work_id': '2886933', 'edition_id': '127586', 'user_position': '3', 'books_count': '68'}, {'title': 'The Dragonriders of Pern (Dragonriders of Pern, #1-3)', 'work_id': '6614581', 'edition_id': '61942', 'user_position': '1-3', 'books_count': '22'}]}\n"
     ]
    }
   ],
   "source": [
    "print(series[0])"
   ]
  },
  {
   "cell_type": "code",
   "execution_count": null,
   "metadata": {},
   "outputs": [],
   "source": []
  }
 ],
 "metadata": {
  "colab": {
   "authorship_tag": "ABX9TyPrJNo3ZBqIr7WSPZ6Z2PPc",
   "include_colab_link": true,
   "provenance": []
  },
  "kernelspec": {
   "display_name": "Python 3 (ipykernel)",
   "language": "python",
   "name": "python3"
  },
  "language_info": {
   "codemirror_mode": {
    "name": "ipython",
    "version": 3
   },
   "file_extension": ".py",
   "mimetype": "text/x-python",
   "name": "python",
   "nbconvert_exporter": "python",
   "pygments_lexer": "ipython3",
   "version": "3.10.4"
  }
 },
 "nbformat": 4,
 "nbformat_minor": 4
}
